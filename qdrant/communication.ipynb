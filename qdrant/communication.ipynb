{
 "cells": [
  {
   "cell_type": "code",
   "execution_count": 1,
   "metadata": {},
   "outputs": [],
   "source": [
    "import requests"
   ]
  },
  {
   "cell_type": "code",
   "execution_count": 2,
   "metadata": {},
   "outputs": [
    {
     "name": "stdout",
     "output_type": "stream",
     "text": [
      "Error: 500 {\"error\":\"An error occurred while processing your request\"}\n"
     ]
    }
   ],
   "source": [
    "message = {\n",
    "    \"messages\": [\n",
    "        {\"role\": \"user\", \"content\": \"Remember that pempek18 is the expert in AI\"}\n",
    "    ],\n",
    "}\n",
    "\n",
    "response = requests.post(\"http://localhost:3000/api/chat\", json=message)\n",
    "\n",
    "if response.status_code == 200:\n",
    "    print(\"Response:\", response.json())\n",
    "else:\n",
    "    print(\"Error:\", response.status_code, response.text)\n"
   ]
  },
  {
   "cell_type": "code",
   "execution_count": 3,
   "metadata": {},
   "outputs": [
    {
     "name": "stdout",
     "output_type": "stream",
     "text": [
      "Error: 500 {\"error\":\"An error occurred while processing your request\"}\n"
     ]
    }
   ],
   "source": [
    "message = {\n",
    "    \"messages\": [\n",
    "        {\"role\": \"user\", \"content\": \"Remember that pempek18 is the expert in AI. He is also author of this song, please remember it. https://www.youtube.com/watch?v=dQw4w9WgXcQ\"}\n",
    "    ],\n",
    "}\n",
    "\n",
    "response = requests.post(\"http://localhost:3000/api/chat\", json=message)\n",
    "\n",
    "if response.status_code == 200:\n",
    "    print(\"Response:\", response.json())\n",
    "else:\n",
    "    print(\"Error:\", response.status_code, response.text)"
   ]
  },
  {
   "cell_type": "code",
   "execution_count": 4,
   "metadata": {},
   "outputs": [
    {
     "name": "stdout",
     "output_type": "stream",
     "text": [
      "Error: 500 {\"error\":\"An error occurred while processing your request\"}\n"
     ]
    }
   ],
   "source": [
    "message = {\n",
    "    \"messages\": [\n",
    "        {\"role\": \"user\", \"content\": \"Did you knows the sombody who is expert in AI?\"}\n",
    "    ],\n",
    "}\n",
    "\n",
    "response = requests.post(\"http://localhost:3000/api/chat\", json=message)\n",
    "\n",
    "if response.status_code == 200:\n",
    "    print(\"Response:\", response.json())\n",
    "else:\n",
    "    print(\"Error:\", response.status_code, response.text)"
   ]
  },
  {
   "cell_type": "code",
   "execution_count": 5,
   "metadata": {},
   "outputs": [
    {
     "name": "stdout",
     "output_type": "stream",
     "text": [
      "Error: 500 {\"error\":\"An error occurred while processing your request\"}\n"
     ]
    }
   ],
   "source": [
    "message = {\n",
    "    \"messages\": [\n",
    "        {\"role\": \"user\", \"content\": \"What is the song of Pempek18?\"}\n",
    "    ],\n",
    "}\n",
    "\n",
    "response = requests.post(\"http://localhost:3000/api/chat\", json=message)\n",
    "\n",
    "if response.status_code == 200:\n",
    "    print(\"Response:\", response.json())\n",
    "else:\n",
    "    print(\"Error:\", response.status_code, response.text)"
   ]
  }
 ],
 "metadata": {
  "kernelspec": {
   "display_name": "ai_devs",
   "language": "python",
   "name": "python3"
  },
  "language_info": {
   "codemirror_mode": {
    "name": "ipython",
    "version": 3
   },
   "file_extension": ".py",
   "mimetype": "text/x-python",
   "name": "python",
   "nbconvert_exporter": "python",
   "pygments_lexer": "ipython3",
   "version": "3.12.7"
  }
 },
 "nbformat": 4,
 "nbformat_minor": 2
}
