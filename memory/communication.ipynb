{
 "cells": [
  {
   "cell_type": "code",
   "execution_count": 10,
   "metadata": {},
   "outputs": [],
   "source": [
    "import requests"
   ]
  },
  {
   "cell_type": "code",
   "execution_count": 14,
   "metadata": {},
   "outputs": [
    {
     "name": "stdout",
     "output_type": "stream",
     "text": [
      "Response: {'id': 'chatcmpl-AR2ABpRUsk65I70yLbrbn8nrGbh4M', 'object': 'chat.completion', 'created': 1731006535, 'model': 'gpt-4o-2024-08-06', 'choices': [{'index': 0, 'message': {'role': 'assistant', 'content': 'Got it! I remember that Pempek18 is recognized by you as an expert in AI, highlighting your professional rapport. If you need me to store any other specifics about them or our discussions, just let me know!', 'refusal': None}, 'logprobs': None, 'finish_reason': 'stop'}], 'usage': {'prompt_tokens': 605, 'completion_tokens': 44, 'total_tokens': 649, 'prompt_tokens_details': {'cached_tokens': 0, 'audio_tokens': 0}, 'completion_tokens_details': {'reasoning_tokens': 0, 'audio_tokens': 0, 'accepted_prediction_tokens': 0, 'rejected_prediction_tokens': 0}}, 'system_fingerprint': 'fp_159d8341cc', 'conversation_id': '952d7b16-2d1a-45dc-bbc8-007c4c38ecea'}\n"
     ]
    }
   ],
   "source": [
    "message = {\n",
    "    \"messages\": [\n",
    "        {\"role\": \"user\", \"content\": \"Remember that pempek18 is the expert in AI\"}\n",
    "    ],\n",
    "}\n",
    "\n",
    "response = requests.post(\"http://localhost:3000/api/chat\", json=message)\n",
    "\n",
    "if response.status_code == 200:\n",
    "    print(\"Response:\", response.json())\n",
    "else:\n",
    "    print(\"Error:\", response.status_code, response.text)\n"
   ]
  },
  {
   "cell_type": "code",
   "execution_count": 15,
   "metadata": {},
   "outputs": [
    {
     "name": "stdout",
     "output_type": "stream",
     "text": [
      "Response: {'id': 'chatcmpl-AR2CPd4uO91AAFv6FIhSapBmSJOlS', 'object': 'chat.completion', 'created': 1731006673, 'model': 'gpt-4o-2024-08-06', 'choices': [{'index': 0, 'message': {'role': 'assistant', 'content': \"Got it! I've updated my memory—Pempek18 is not only an expert in AI but also the author of the song available on YouTube at that link. Anything else you'd like me to remember or help you with?\", 'refusal': None}, 'logprobs': None, 'finish_reason': 'stop'}], 'usage': {'prompt_tokens': 712, 'completion_tokens': 45, 'total_tokens': 757, 'prompt_tokens_details': {'cached_tokens': 0, 'audio_tokens': 0}, 'completion_tokens_details': {'reasoning_tokens': 0, 'audio_tokens': 0, 'accepted_prediction_tokens': 0, 'rejected_prediction_tokens': 0}}, 'system_fingerprint': 'fp_159d8341cc', 'conversation_id': '9de1d5f7-0e76-48b2-aa60-acebc4b1ac23'}\n"
     ]
    }
   ],
   "source": [
    "message = {\n",
    "    \"messages\": [\n",
    "        {\"role\": \"user\", \"content\": \"Remember that pempek18 is the expert in AI. He is also author of this song, please remember it. https://www.youtube.com/watch?v=dQw4w9WgXcQ\"}\n",
    "    ],\n",
    "}\n",
    "\n",
    "response = requests.post(\"http://localhost:3000/api/chat\", json=message)\n",
    "\n",
    "if response.status_code == 200:\n",
    "    print(\"Response:\", response.json())\n",
    "else:\n",
    "    print(\"Error:\", response.status_code, response.text)"
   ]
  },
  {
   "cell_type": "code",
   "execution_count": 16,
   "metadata": {},
   "outputs": [
    {
     "name": "stdout",
     "output_type": "stream",
     "text": [
      "Response: {'id': 'chatcmpl-AR2Eugu62vK5Fdo5ah0vtNj9qapIq', 'object': 'chat.completion', 'created': 1731006828, 'model': 'gpt-4o-2024-08-06', 'choices': [{'index': 0, 'message': {'role': 'assistant', 'content': \"Absolutely! You mentioned that Pempek18 is recognized as an AI expert. They seem to have made quite an impression in that field. And by the way, it seems like they've also dabbled in music. Ever listened to their song on YouTube?\", 'refusal': None}, 'logprobs': None, 'finish_reason': 'stop'}], 'usage': {'prompt_tokens': 797, 'completion_tokens': 52, 'total_tokens': 849, 'prompt_tokens_details': {'cached_tokens': 0, 'audio_tokens': 0}, 'completion_tokens_details': {'reasoning_tokens': 0, 'audio_tokens': 0, 'accepted_prediction_tokens': 0, 'rejected_prediction_tokens': 0}}, 'system_fingerprint': 'fp_72bbfa6014', 'conversation_id': 'd2a20176-b648-419b-8a37-da0f9bf05ccd'}\n"
     ]
    }
   ],
   "source": [
    "message = {\n",
    "    \"messages\": [\n",
    "        {\"role\": \"user\", \"content\": \"Did you knows the sombody who is expert in AI?\"}\n",
    "    ],\n",
    "}\n",
    "\n",
    "response = requests.post(\"http://localhost:3000/api/chat\", json=message)\n",
    "\n",
    "if response.status_code == 200:\n",
    "    print(\"Response:\", response.json())\n",
    "else:\n",
    "    print(\"Error:\", response.status_code, response.text)"
   ]
  },
  {
   "cell_type": "code",
   "execution_count": 18,
   "metadata": {},
   "outputs": [
    {
     "name": "stdout",
     "output_type": "stream",
     "text": [
      "Response: {'id': 'chatcmpl-AR2HB8qEK2UGhMu8JnkEuRcoh4UbP', 'object': 'chat.completion', 'created': 1731006969, 'model': 'gpt-4o-2024-08-06', 'choices': [{'index': 0, 'message': {'role': 'assistant', 'content': \"Pempek18 is not only recognized as an AI expert by Adam but also has a creative side! They authored a song available on YouTube. If you want to check it out, here's the link: [Song by Pempek18](https://www.youtube.com/watch?v=dQw4w9WgXcQ). Enjoy!\", 'refusal': None}, 'logprobs': None, 'finish_reason': 'stop'}], 'usage': {'prompt_tokens': 641, 'completion_tokens': 69, 'total_tokens': 710, 'prompt_tokens_details': {'cached_tokens': 0, 'audio_tokens': 0}, 'completion_tokens_details': {'reasoning_tokens': 0, 'audio_tokens': 0, 'accepted_prediction_tokens': 0, 'rejected_prediction_tokens': 0}}, 'system_fingerprint': 'fp_9ee9e968ea', 'conversation_id': '96ec4901-0ebb-45a4-9d7f-1806cb81772f'}\n"
     ]
    }
   ],
   "source": [
    "message = {\n",
    "    \"messages\": [\n",
    "        {\"role\": \"user\", \"content\": \"What is the song of Pempek18?\"}\n",
    "    ],\n",
    "}\n",
    "\n",
    "response = requests.post(\"http://localhost:3000/api/chat\", json=message)\n",
    "\n",
    "if response.status_code == 200:\n",
    "    print(\"Response:\", response.json())\n",
    "else:\n",
    "    print(\"Error:\", response.status_code, response.text)"
   ]
  }
 ],
 "metadata": {
  "kernelspec": {
   "display_name": "ai_devs",
   "language": "python",
   "name": "python3"
  },
  "language_info": {
   "codemirror_mode": {
    "name": "ipython",
    "version": 3
   },
   "file_extension": ".py",
   "mimetype": "text/x-python",
   "name": "python",
   "nbconvert_exporter": "python",
   "pygments_lexer": "ipython3",
   "version": "3.12.7"
  }
 },
 "nbformat": 4,
 "nbformat_minor": 2
}
